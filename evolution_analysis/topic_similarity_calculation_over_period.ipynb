{
 "cells": [
  {
   "cell_type": "code",
   "execution_count": 1,
   "metadata": {},
   "outputs": [],
   "source": [
    "import pandas as pd\n",
    "def excel2matrix(path,sheetName):\n",
    "    data = pd.read_excel(path,header=None,sheet_name = sheetName)  # header=None: The first row is not used as a table header\n",
    "    datamatrix = data.values\n",
    "    return datamatrix"
   ]
  },
  {
   "cell_type": "code",
   "execution_count": 2,
   "metadata": {},
   "outputs": [],
   "source": [
    "import xlrd\n",
    "import numpy as np\n",
    "TopicVectorPath = 'Topic_Vectors.xlsx'\n",
    "T2011_vectors = excel2matrix(TopicVectorPath,'2011')\n",
    "T2012_vectors = excel2matrix(TopicVectorPath,'2012')\n",
    "T2013_vectors = excel2matrix(TopicVectorPath,'2013')\n",
    "T2014_vectors = excel2matrix(TopicVectorPath,'2014')\n",
    "T2015_vectors = excel2matrix(TopicVectorPath,'2015')\n",
    "T2016_vectors = excel2matrix(TopicVectorPath,'2016')\n",
    "T2017_vectors = excel2matrix(TopicVectorPath,'2017')\n",
    "T2018_vectors = excel2matrix(TopicVectorPath,'2018')\n",
    "T2019_vectors = excel2matrix(TopicVectorPath,'2019')\n",
    "T2020_vectors = excel2matrix(TopicVectorPath,'2020')"
   ]
  },
  {
   "cell_type": "code",
   "execution_count": 3,
   "metadata": {},
   "outputs": [
    {
     "data": {
      "text/plain": [
       "array([0.291412  , 0.32527758, 0.53651589, 0.36896822, 0.25897827,\n",
       "       0.37360042, 0.25560064, 0.24808912, 0.44395992, 0.27329161,\n",
       "       0.36305359, 0.39911903, 0.44693954, 0.46844642, 0.47202398,\n",
       "       0.36551358, 0.33171786, 0.49300809, 0.58946683, 0.34816189,\n",
       "       0.508832  , 0.39128638, 0.32611772, 0.25301058])"
      ]
     },
     "execution_count": 3,
     "metadata": {},
     "output_type": "execute_result"
    }
   ],
   "source": [
    "PPCMatrix = np.zeros((len(T2019_vectors),len(T2020_vectors)))   # Create initial matrix\n",
    "for i in range(0,len(T2019_vectors)):\n",
    "    for j in range(0,len(T2020_vectors)):\n",
    "        PPCMatrix[i][j] = np.corrcoef(T2019_vectors[i],T2020_vectors[j])[0][1]\n",
    "PPCMatrix[0]"
   ]
  },
  {
   "cell_type": "code",
   "execution_count": 4,
   "metadata": {},
   "outputs": [
    {
     "data": {
      "text/plain": [
       "'\\nPPCMatrix[PPCMatrix < median] =0\\nPPCMatrix[0]\\n'"
      ]
     },
     "execution_count": 4,
     "metadata": {},
     "output_type": "execute_result"
    }
   ],
   "source": [
    "\n",
    "upper_quartile = np.quantile(PPCMatrix, 0.95, interpolation = 'higher')  \n",
    "\n",
    "PPCMatrix[PPCMatrix < upper_quartile] =0\n",
    "'''\n",
    "PPCMatrix[PPCMatrix < median] =0\n",
    "PPCMatrix[0]\n",
    "'''"
   ]
  },
  {
   "cell_type": "code",
   "execution_count": 5,
   "metadata": {},
   "outputs": [
    {
     "data": {
      "text/plain": [
       "(23, 24)"
      ]
     },
     "execution_count": 5,
     "metadata": {},
     "output_type": "execute_result"
    }
   ],
   "source": [
    "PPCMatrix.shape"
   ]
  },
  {
   "cell_type": "code",
   "execution_count": 6,
   "metadata": {},
   "outputs": [],
   "source": [
    "import networkx as nx\n",
    "from openpyxl import Workbook\n",
    "wb = Workbook()\n",
    "topicSimilaritySheet = wb.create_sheet('201-201',index=0)\n",
    "\n",
    "for x in range(0, len(T2019_vectors)):\n",
    "    topicSimilaritySheet.cell(row = x+2, column = 1, value = '2019-T' + str(x+1))\n",
    "for y in range(0, len(T2020_vectors)):\n",
    "    topicSimilaritySheet.cell(row = 1, column = y+2, value = '2020-T' + str(y+1))\n",
    "for x in range(0, len(T2019_vectors)):\n",
    "    for y in range(len(T2020_vectors)):\n",
    "        topicSimilaritySheet.cell(row = x+2, column = y+2, value = PPCMatrix[x][y])\n",
    "\n",
    "wb.save('TopicSimilarityMatrix.xlsx')"
   ]
  }
 ],
 "metadata": {
  "interpreter": {
   "hash": "4905652b14e4b7eb92899b78ac499a22c488804455b27940a322fd82aaf71031"
  },
  "kernelspec": {
   "display_name": "Python 3.7.0 64-bit ('base': conda)",
   "name": "python3"
  },
  "language_info": {
   "codemirror_mode": {
    "name": "ipython",
    "version": 3
   },
   "file_extension": ".py",
   "mimetype": "text/x-python",
   "name": "python",
   "nbconvert_exporter": "python",
   "pygments_lexer": "ipython3",
   "version": "3.7.11"
  },
  "orig_nbformat": 4
 },
 "nbformat": 4,
 "nbformat_minor": 2
}
