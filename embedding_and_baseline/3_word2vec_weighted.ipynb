{
 "cells": [
  {
   "cell_type": "code",
   "execution_count": null,
   "metadata": {},
   "outputs": [],
   "source": [
    "# The word vector is weighted and averaged by tf-idf to obtain the sentence vector\n",
    "\n",
    "# Simple data pre-processing\n",
    "from gensim import utils\n",
    "def read_corpus(fname):\n",
    "    for line in open(fname,encoding = 'utf-8'):\n",
    "        yield utils.simple_preprocess(line)\n",
    "\n",
    "# 50000_WoS.txt\n",
    "# 50000_MedLine.txt\n",
    "train_corpus = list(read_corpus('../datasets/50000_MedLine.txt'))\n",
    "len(train_corpus)"
   ]
  },
  {
   "cell_type": "code",
   "execution_count": null,
   "metadata": {
    "scrolled": true
   },
   "outputs": [],
   "source": [
    "from gensim.models import word2vec\n",
    "import numpy as np \n",
    "\n",
    "model = word2vec.Word2Vec(sentences = train_corpus, vector_size=300, min_count = 5, epochs = 50)   # WoS:100 Med:50\n",
    "word_list = model.wv.index_to_key            #len(word_list) = 30064\n",
    "vectors = np.asarray(model.wv.vectors)      #len(vectors) = 30064"
   ]
  },
  {
   "cell_type": "code",
   "execution_count": null,
   "metadata": {},
   "outputs": [],
   "source": [
    "print(word_list[:10])\n",
    "print(len(word_list))\n",
    "#print(model.wv['the'])"
   ]
  },
  {
   "cell_type": "code",
   "execution_count": null,
   "metadata": {},
   "outputs": [],
   "source": [
    "# Rejoin the split words into sentences as input for tf-idf\n",
    "from tqdm import tqdm\n",
    "sentences = [[]*len(train_corpus) for x in range(len(train_corpus))]\n",
    "for i in tqdm(range(len(train_corpus))):\n",
    "    sentences[i] = ' '.join(train_corpus[i])"
   ]
  },
  {
   "cell_type": "code",
   "execution_count": null,
   "metadata": {},
   "outputs": [],
   "source": [
    "from sklearn.feature_extraction.text import TfidfVectorizer\n",
    "tfidf_model = TfidfVectorizer() \n",
    "tfidf_matrix = tfidf_model.fit_transform(sentences).toarray()\n",
    "tfidf_vocabulary = tfidf_model.vocabulary_"
   ]
  },
  {
   "cell_type": "code",
   "execution_count": null,
   "metadata": {},
   "outputs": [],
   "source": [
    "import numpy as np\n",
    "word_vec_per_doc = [[]*len(train_corpus) for x in range(len(train_corpus))]\n",
    "doc_vector = [[]*len(train_corpus) for x in range(len(train_corpus))]\n",
    "for docid in tqdm(range(len(train_corpus))):\n",
    "    for wordid in range(len(train_corpus[docid])):  \n",
    "        if (train_corpus[docid][wordid] in word_list):  \n",
    "            word_tfidf = tfidf_matrix[docid][tfidf_vocabulary[train_corpus[docid][wordid]]]   # Acquire the tf-idf value of words\n",
    "            word_vec_per_doc[docid].append(model.wv[train_corpus[docid][wordid]]*word_tfidf)   # Acquire doc vector\n",
    "    doc_vector[docid] = np.array(word_vec_per_doc[docid]).mean(axis = 0)"
   ]
  },
  {
   "cell_type": "code",
   "execution_count": null,
   "metadata": {},
   "outputs": [],
   "source": [
    "len(doc_vector)"
   ]
  },
  {
   "cell_type": "code",
   "execution_count": null,
   "metadata": {},
   "outputs": [],
   "source": [
    "from sklearn.cluster import KMeans\n",
    "classNumber = 10\n",
    "kmean_model = KMeans(n_clusters = classNumber).fit(doc_vector)\n",
    "labels = kmean_model.labels_\n",
    "\n",
    "from collections import Counter\n",
    "center_dict = Counter(labels)\n",
    "center_dict"
   ]
  },
  {
   "cell_type": "code",
   "execution_count": null,
   "metadata": {},
   "outputs": [],
   "source": [
    "labels[:10]"
   ]
  },
  {
   "cell_type": "code",
   "execution_count": null,
   "metadata": {},
   "outputs": [],
   "source": [
    "def get_ground_truth_label():\n",
    "    ground_truth_label = []\n",
    "    # 50000_WoS_WC.txt\n",
    "    # 50000_MedLine_Label.txt\n",
    "    with open('../datasets/50000_MedLine_Label.txt','r',encoding = 'utf-8') as f:\n",
    "        lines = f.readlines()\n",
    "        for line in lines:\n",
    "            line = int(line.replace('\\n',''))\n",
    "            ground_truth_label.append(line)\n",
    "    return ground_truth_label\n",
    "ground_truth_label = get_ground_truth_label()"
   ]
  },
  {
   "cell_type": "code",
   "execution_count": null,
   "metadata": {},
   "outputs": [],
   "source": [
    "from sklearn import metrics\n",
    "print(metrics.adjusted_rand_score(labels, ground_truth_label))\n",
    "print(metrics.fowlkes_mallows_score(labels, ground_truth_label))\n",
    "print(metrics.adjusted_mutual_info_score(labels, ground_truth_label))"
   ]
  }
 ],
 "metadata": {
  "kernelspec": {
   "display_name": "Python 3.7.11 ('base')",
   "language": "python",
   "name": "python3"
  },
  "language_info": {
   "codemirror_mode": {
    "name": "ipython",
    "version": 3
   },
   "file_extension": ".py",
   "mimetype": "text/x-python",
   "name": "python",
   "nbconvert_exporter": "python",
   "pygments_lexer": "ipython3",
   "version": "3.7.11"
  },
  "vscode": {
   "interpreter": {
    "hash": "6a018d3a992d78c184ccc94ab54168c7b26325ed3c2283926339c3edbf5487e7"
   }
  }
 },
 "nbformat": 4,
 "nbformat_minor": 2
}
