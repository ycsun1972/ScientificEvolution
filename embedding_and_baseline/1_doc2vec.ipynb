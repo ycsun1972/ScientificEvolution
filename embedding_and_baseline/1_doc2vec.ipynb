{
 "cells": [
  {
   "cell_type": "code",
   "execution_count": 1,
   "metadata": {},
   "outputs": [],
   "source": [
    "import smart_open\n",
    "import gensim\n",
    "from sklearn.cluster import KMeans\n",
    "from sklearn.metrics import silhouette_score\n",
    "import pandas as pd\n",
    "import matplotlib.pyplot as plt\n",
    "from sklearn import metrics"
   ]
  },
  {
   "cell_type": "code",
   "execution_count": 2,
   "metadata": {},
   "outputs": [],
   "source": [
    "def read_corpus(fname, tokens_only=False):\n",
    "    with smart_open.open(fname, encoding=\"iso-8859-1\") as f:\n",
    "        for i, line in enumerate(f):\n",
    "            tokens = gensim.utils.simple_preprocess(line)\n",
    "            if tokens_only:\n",
    "                yield tokens\n",
    "            else:\n",
    "                yield gensim.models.doc2vec.TaggedDocument(tokens, [i])"
   ]
  },
  {
   "cell_type": "code",
   "execution_count": 3,
   "metadata": {},
   "outputs": [],
   "source": [
    "# 50000_WoS.txt\n",
    "# 50000_MedLine.txt\n",
    "# 56529_CV.txt\n",
    "train_corpus = list(read_corpus('../datasets/50000_MedLine.txt'))"
   ]
  },
  {
   "cell_type": "code",
   "execution_count": 4,
   "metadata": {},
   "outputs": [
    {
     "data": {
      "text/plain": [
       "50000"
      ]
     },
     "execution_count": 4,
     "metadata": {},
     "output_type": "execute_result"
    }
   ],
   "source": [
    "len(train_corpus)"
   ]
  },
  {
   "cell_type": "code",
   "execution_count": 5,
   "metadata": {},
   "outputs": [],
   "source": [
    "def get_ground_truth_label():\n",
    "    ground_truth_label = []\n",
    "    # 50000_WoS_WC.txt\n",
    "    # 50000_MedLine_Label.txt\n",
    "    # 56529_CV_Label.txt\n",
    "    with open('../datasets/50000_MedLine_Label.txt','r',encoding = 'utf-8') as f:\n",
    "        lines = f.readlines()\n",
    "        for line in lines:\n",
    "            line = int(line.replace('\\n',''))\n",
    "            ground_truth_label.append(line)\n",
    "    return ground_truth_label\n",
    "ground_truth_label = get_ground_truth_label()"
   ]
  },
  {
   "cell_type": "code",
   "execution_count": 7,
   "metadata": {},
   "outputs": [],
   "source": [
    "model = gensim.models.doc2vec.Doc2Vec(dm=0, vector_size = 300, min_count = 5)\n",
    "# If dm=1, distributed memory (PV-DM) is used.Otherwise, distributed bag of words (PV-DBOW) is employed\n",
    "# default: 100, 5, 5\n",
    "model.build_vocab(train_corpus)"
   ]
  },
  {
   "cell_type": "code",
   "execution_count": 6,
   "metadata": {},
   "outputs": [],
   "source": [
    "def evaluate(n_epoch,ground_truth_label):\n",
    "    docvecs = model.dv\n",
    "    docvectors = []\n",
    "    for i in range(len(docvecs)):\n",
    "        docvectors.append(docvecs[i])\n",
    "    classNumber = 10\n",
    "    kmean_model = KMeans(n_clusters = classNumber).fit(docvectors)\n",
    "    labels = kmean_model.labels_\n",
    "    print('n_epoch:{}，ARI:{:.4f}, FM:{:04f}, AMI:{:04f}'.format(n_epoch, metrics.adjusted_rand_score(labels, ground_truth_label),\n",
    "                                                        metrics.fowlkes_mallows_score(labels, ground_truth_label),\n",
    "                                                        metrics.adjusted_mutual_info_score(labels, ground_truth_label)))"
   ]
  },
  {
   "cell_type": "code",
   "execution_count": 8,
   "metadata": {
    "scrolled": true
   },
   "outputs": [
    {
     "name": "stdout",
     "output_type": "stream",
     "text": [
      "n_epoch:5，ARI:0.3679, FM:0.432605, AMI:0.482681\n",
      "n_epoch:10，ARI:0.4158, FM:0.474915, AMI:0.510372\n"
     ]
    }
   ],
   "source": [
    "for i in range(1,2):\n",
    "    n_epoch = 5*(i+1)\n",
    "    model.train(train_corpus, total_examples = model.corpus_count, epochs = model.epochs)\n",
    "    evaluate(n_epoch, ground_truth_label)"
   ]
  }
 ],
 "metadata": {
  "kernelspec": {
   "display_name": "Python 3.7.11 ('base')",
   "language": "python",
   "name": "python3"
  },
  "language_info": {
   "codemirror_mode": {
    "name": "ipython",
    "version": 3
   },
   "file_extension": ".py",
   "mimetype": "text/x-python",
   "name": "python",
   "nbconvert_exporter": "python",
   "pygments_lexer": "ipython3",
   "version": "3.7.11"
  },
  "vscode": {
   "interpreter": {
    "hash": "6a018d3a992d78c184ccc94ab54168c7b26325ed3c2283926339c3edbf5487e7"
   }
  }
 },
 "nbformat": 4,
 "nbformat_minor": 2
}
