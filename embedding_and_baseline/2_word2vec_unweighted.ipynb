{
 "cells": [
  {
   "cell_type": "code",
   "execution_count": 1,
   "metadata": {},
   "outputs": [
    {
     "data": {
      "text/plain": [
       "50000"
      ]
     },
     "execution_count": 1,
     "metadata": {},
     "output_type": "execute_result"
    }
   ],
   "source": [
    "# The word vector is averaged directly to obtain the sentence vector\n",
    "\n",
    "from gensim import utils\n",
    "def read_corpus(fname):\n",
    "    for line in open(fname,encoding = 'utf-8'):\n",
    "        yield utils.simple_preprocess(line)\n",
    "\n",
    "# 50000_WoS.txt\n",
    "# 50000_MedLine.txt\n",
    "train_corpus = list(read_corpus('../datasets/50000_MedLine.txt'))\n",
    "len(train_corpus)"
   ]
  },
  {
   "cell_type": "code",
   "execution_count": 2,
   "metadata": {},
   "outputs": [],
   "source": [
    "from gensim.models import word2vec\n",
    "import numpy as np \n",
    "\n",
    "model = word2vec.Word2Vec(sentences = train_corpus, vector_size=200, min_count = 5, epochs = 50) # Med:50 WOS:100\n",
    "# default: 100, 5, 5\n",
    "word_list = model.wv.index_to_key            #len(word_list) = 30064\n",
    "vectors = np.asarray(model.wv.vectors)      #len(vectors) = 30064"
   ]
  },
  {
   "cell_type": "code",
   "execution_count": 3,
   "metadata": {},
   "outputs": [],
   "source": [
    "# print(word_list[:10])\n",
    "# print(len(word_list))\n",
    "# print(model.wv['the'])"
   ]
  },
  {
   "cell_type": "code",
   "execution_count": 4,
   "metadata": {},
   "outputs": [
    {
     "name": "stderr",
     "output_type": "stream",
     "text": [
      "100%|██████████| 50000/50000 [18:15<00:00, 45.66it/s]\n"
     ]
    }
   ],
   "source": [
    "import numpy as np\n",
    "from tqdm import tqdm\n",
    "word_vec_per_doc = [[]*len(train_corpus) for x in range(len(train_corpus))]\n",
    "doc_vector = [[]*len(train_corpus) for x in range(len(train_corpus))]\n",
    "for docid in tqdm(range(len(train_corpus))):\n",
    "    for wordid in range(len(train_corpus[docid])):  \n",
    "        if (train_corpus[docid][wordid] in word_list):   # First determine if the term exists. Terms with too low frequency have been deleted\n",
    "            word_vec_per_doc[docid].append(model.wv[train_corpus[docid][wordid]])\n",
    "    doc_vector[docid] = np.array(word_vec_per_doc[docid]).mean(axis = 0)   # The word vector is averaged to obtain the sentence vector"
   ]
  },
  {
   "cell_type": "code",
   "execution_count": 5,
   "metadata": {},
   "outputs": [
    {
     "data": {
      "text/plain": [
       "Counter({1: 7194,\n",
       "         5: 4867,\n",
       "         3: 3813,\n",
       "         0: 4821,\n",
       "         4: 4178,\n",
       "         8: 6208,\n",
       "         2: 4176,\n",
       "         6: 6234,\n",
       "         7: 3426,\n",
       "         9: 5083})"
      ]
     },
     "execution_count": 5,
     "metadata": {},
     "output_type": "execute_result"
    }
   ],
   "source": [
    "from sklearn.cluster import KMeans\n",
    "classNumber = 10\n",
    "kmean_model = KMeans(n_clusters = classNumber).fit(doc_vector)\n",
    "labels = kmean_model.labels_\n",
    "\n",
    "from collections import Counter\n",
    "center_dict = Counter(labels)\n",
    "center_dict"
   ]
  },
  {
   "cell_type": "code",
   "execution_count": 6,
   "metadata": {},
   "outputs": [
    {
     "data": {
      "text/plain": [
       "array([1, 1, 1, 5, 1, 1, 1, 1, 1, 1])"
      ]
     },
     "execution_count": 6,
     "metadata": {},
     "output_type": "execute_result"
    }
   ],
   "source": [
    "labels[:10]"
   ]
  },
  {
   "cell_type": "code",
   "execution_count": 7,
   "metadata": {},
   "outputs": [],
   "source": [
    "def get_ground_truth_label():\n",
    "    ground_truth_label = []\n",
    "    # 50000_WoS_WC.txt\n",
    "    # 50000_MedLine_Label.txt\n",
    "    with open('../datasets/50000_MedLine_Label.txt','r',encoding = 'utf-8') as f:\n",
    "        lines = f.readlines()\n",
    "        for line in lines:\n",
    "            line = int(line.replace('\\n',''))\n",
    "            ground_truth_label.append(line)\n",
    "    return ground_truth_label\n",
    "ground_truth_label = get_ground_truth_label()"
   ]
  },
  {
   "cell_type": "code",
   "execution_count": 8,
   "metadata": {},
   "outputs": [
    {
     "name": "stdout",
     "output_type": "stream",
     "text": [
      "0.3235397106298138\n",
      "0.39302785434854465\n",
      "0.4405198271153591\n"
     ]
    }
   ],
   "source": [
    "from sklearn import metrics\n",
    "print(metrics.adjusted_rand_score(labels, ground_truth_label))\n",
    "print(metrics.fowlkes_mallows_score(labels, ground_truth_label))\n",
    "print(metrics.adjusted_mutual_info_score(labels, ground_truth_label))"
   ]
  }
 ],
 "metadata": {
  "kernelspec": {
   "display_name": "Python 3.7.11 ('base')",
   "language": "python",
   "name": "python3"
  },
  "language_info": {
   "codemirror_mode": {
    "name": "ipython",
    "version": 3
   },
   "file_extension": ".py",
   "mimetype": "text/x-python",
   "name": "python",
   "nbconvert_exporter": "python",
   "pygments_lexer": "ipython3",
   "version": "3.7.11"
  },
  "vscode": {
   "interpreter": {
    "hash": "6a018d3a992d78c184ccc94ab54168c7b26325ed3c2283926339c3edbf5487e7"
   }
  }
 },
 "nbformat": 4,
 "nbformat_minor": 2
}
