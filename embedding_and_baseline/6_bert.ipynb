{
 "cells": [
  {
   "cell_type": "code",
   "execution_count": null,
   "metadata": {},
   "outputs": [],
   "source": [
    "from transformers import BertModel, BertTokenizer, BertConfig\n",
    "import numpy as np\n",
    "import torch\n",
    "from tqdm import tqdm\n",
    "from torch.utils.data import Dataset, DataLoader"
   ]
  },
  {
   "cell_type": "code",
   "execution_count": null,
   "metadata": {},
   "outputs": [],
   "source": [
    "pretrained_Model = 'bert-base-uncased'  # BERT\n",
    "# pretrained_Model = 'allenai/scibert_scivocab_uncased'\n",
    "tokenizer = BertTokenizer.from_pretrained(pretrained_Model, do_lower_case = True) \n",
    "BERT_model = BertModel.from_pretrained(pretrained_Model)"
   ]
  },
  {
   "cell_type": "code",
   "execution_count": null,
   "metadata": {},
   "outputs": [],
   "source": [
    "class SentDataset(Dataset):\n",
    "    def __init__(self, tokenizer, max_length, data_dir):\n",
    "        self.tokenizer = tokenizer\n",
    "        self.max_length = max_length\n",
    "        self.data_dir = data_dir\n",
    "        self.data = self.read_file()\n",
    "        \n",
    "    def read_file(self):\n",
    "        with open(self.data_dir,'r',encoding='utf-8') as file: #50000_WoS\n",
    "            docs = file.readlines()\n",
    "            return docs\n",
    "    \n",
    "    def __len__(self):\n",
    "        return len(self.data)\n",
    "    \n",
    "    def __getitem__(self, index):\n",
    "        text = self.data[index]\n",
    "        text = self.tokenizer(text, padding='max_length', truncation=True, max_length=self.max_length)\n",
    "        \n",
    "        input_ids = torch.tensor(text.input_ids)\n",
    "        token_type_ids = torch.tensor(text.token_type_ids)\n",
    "        attention_mask = torch.tensor(text.attention_mask)\n",
    "        \n",
    "        return input_ids, token_type_ids, attention_mask\n",
    "        "
   ]
  },
  {
   "cell_type": "code",
   "execution_count": null,
   "metadata": {},
   "outputs": [],
   "source": [
    "dataset = SentDataset(tokenizer, 512, '../datasets/50000_WoS.txt')"
   ]
  },
  {
   "cell_type": "code",
   "execution_count": null,
   "metadata": {},
   "outputs": [],
   "source": [
    "input_ids, token_type_ids, attention_mask = dataset[0]"
   ]
  },
  {
   "cell_type": "code",
   "execution_count": null,
   "metadata": {},
   "outputs": [],
   "source": [
    "dataloader = DataLoader(\n",
    "        dataset,\n",
    "        batch_size=256,\n",
    "        num_workers=0,\n",
    "        pin_memory=True,\n",
    "        drop_last=False,\n",
    "        shuffle=False\n",
    "    )"
   ]
  },
  {
   "cell_type": "code",
   "execution_count": null,
   "metadata": {},
   "outputs": [],
   "source": [
    "input_ids, token_type_ids, attention_mask = next(iter(dataloader))"
   ]
  },
  {
   "cell_type": "code",
   "execution_count": null,
   "metadata": {},
   "outputs": [],
   "source": [
    "input_ids.shape"
   ]
  },
  {
   "cell_type": "code",
   "execution_count": null,
   "metadata": {},
   "outputs": [],
   "source": [
    "doc_vectors_cls = []\n",
    "doc_vectors_meanpool = []\n",
    "\n",
    "#BERT_model = torch.nn.DataParallel(BERT_model, device_ids=[0, 1, 2, 3])\n",
    "\n",
    "for step, batch in tqdm(enumerate(dataloader)):   # A batch is 256, so the number of iterations is 50,000/256 ≈ 196\n",
    "    input_ids, token_type_ids, attention_mask = batch\n",
    "    with torch.no_grad():\n",
    "        out = BERT_model(input_ids=input_ids, token_type_ids=token_type_ids, attention_mask=attention_mask)\n",
    "        mean_out = (out.last_hidden_state * attention_mask.unsqueeze(-1)).sum(1) / torch.sum(attention_mask, dim=1, keepdim=True)\n",
    "        \n",
    "        for l in out.pooler_output:\n",
    "            doc_vectors_cls.append(l.numpy())\n",
    "        for l in mean_out:\n",
    "            doc_vectors_meanpool.append(l.numpy())\n"
   ]
  },
  {
   "cell_type": "code",
   "execution_count": null,
   "metadata": {},
   "outputs": [],
   "source": [
    "print(len(doc_vectors_cls))\n",
    "print(len(doc_vectors_meanpool))"
   ]
  },
  {
   "cell_type": "code",
   "execution_count": null,
   "metadata": {},
   "outputs": [],
   "source": [
    "'''\n",
    "np.save('sentence_vectors.npy',sentence_features)\n",
    "\n",
    "import numpy as np\n",
    "arr = np.load('sentence_vectors.npy')\n",
    "print(arr)\n",
    "'''"
   ]
  },
  {
   "cell_type": "code",
   "execution_count": null,
   "metadata": {},
   "outputs": [],
   "source": [
    "from sklearn.cluster import KMeans\n",
    "classNumber = 10\n",
    "# doc_vectors_meanpool\n",
    "# doc_vectors_cls\n",
    "doc_vectors = doc_vectors_meanpool\n",
    "# doc_vectors = doc_vectors_cls\n",
    "kmean_model = KMeans(n_clusters = classNumber).fit(doc_vectors)\n",
    "labels = kmean_model.labels_\n",
    "\n",
    "from collections import Counter\n",
    "center_dict = Counter(labels)\n",
    "center_dict"
   ]
  },
  {
   "cell_type": "code",
   "execution_count": null,
   "metadata": {},
   "outputs": [],
   "source": [
    "def get_ground_truth_label():\n",
    "    ground_truth_label = []\n",
    "    # 50000_WoS_WC.txt\n",
    "    # 50000_MedLine_Label.txt\n",
    "    # 56529_CV_Label.txt\n",
    "    with open('../datasets/50000_MedLine_Label.txt','r',encoding = 'utf-8') as f: #50000_WoS_WC\n",
    "        lines = f.readlines()\n",
    "        for line in lines:\n",
    "            line = int(line.replace('\\n',''))\n",
    "            ground_truth_label.append(line)\n",
    "    return ground_truth_label\n",
    "ground_truth_label = get_ground_truth_label()\n",
    "# len(ground_truth_label) 50000"
   ]
  },
  {
   "cell_type": "code",
   "execution_count": null,
   "metadata": {},
   "outputs": [],
   "source": [
    "# wos: 0.7733 0.7960 0.7896\n",
    "# med: 0.4123 0.4718 0.5092"
   ]
  },
  {
   "cell_type": "code",
   "execution_count": null,
   "metadata": {},
   "outputs": [],
   "source": [
    "from sklearn import metrics\n",
    "print(metrics.adjusted_rand_score(labels, ground_truth_label))\n",
    "print(metrics.fowlkes_mallows_score(labels, ground_truth_label))\n",
    "print(metrics.adjusted_mutual_info_score(labels, ground_truth_label))"
   ]
  }
 ],
 "metadata": {
  "kernelspec": {
   "display_name": "Python 3.7.11 ('base')",
   "language": "python",
   "name": "python3"
  },
  "language_info": {
   "codemirror_mode": {
    "name": "ipython",
    "version": 3
   },
   "file_extension": ".py",
   "mimetype": "text/x-python",
   "name": "python",
   "nbconvert_exporter": "python",
   "pygments_lexer": "ipython3",
   "version": "3.7.11"
  },
  "vscode": {
   "interpreter": {
    "hash": "6a018d3a992d78c184ccc94ab54168c7b26325ed3c2283926339c3edbf5487e7"
   }
  }
 },
 "nbformat": 4,
 "nbformat_minor": 2
}
